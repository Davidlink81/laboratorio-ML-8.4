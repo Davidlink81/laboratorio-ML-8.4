{
 "cells": [
  {
   "cell_type": "markdown",
   "id": "19fbea79-af4f-4cab-a5de-5cf42656ed69",
   "metadata": {},
   "source": [
    "# Lab | Inferential statistics - ANOVA\n",
    "\n",
    "Note: The following lab is divided in 2 sections which represent activities 3 and 4.\n",
    "\n",
    "## Part 1\n",
    "\n",
    "In this activity, we will look at another example. Your task is to understand the problem and write down all the steps to set up ANOVA. After the next lesson, we will ask you to solve this problem using Python. Here are the steps that you would need to work on:\n",
    "    - Null hypothesis\n",
    "    - Alternate hypothesis\n",
    "    - Level of significance\n",
    "    - Test statistic\n",
    "    - P-value\n",
    "    - F table\n",
    "\n",
    "### Context\n",
    "\n",
    "Suppose you are working as an analyst in a microprocessor chip manufacturing plant. You have been given the task of analyzing a plasma etching process with respect to changing Power (in Watts) of the plasma beam. Data was collected and provided to you to conduct statistical analysis and check if changing the power of the plasma beam has any effect on the etching rate by the machine. You will conduct ANOVA and check if there is any difference in the mean etching rate for different levels of power. You can find the data `anova_lab_data.xlsx` file in the `lab-8.4` folder  \n",
    "\n",
    "- State the null hypothesis\n",
    "- State the alternate hypothesis\n",
    "- What is the significance level\n",
    "- What are the degrees of freedom of model, error terms, and total DoF\n",
    "\n",
    "Data was collected randomly and provided to you in the table as shown: [link to the image - Data](https://education-team-2020.s3-eu-west-1.amazonaws.com/data-analytics/7.05/7.05-lab_data.png)\n",
    "\n",
    "\n",
    "## Part 2\n",
    "\n",
    "- In this section, use Python to conduct ANOVA.\n",
    "- What conclusions can you draw from the experiment and why?\n"
   ]
  },
  {
   "cell_type": "markdown",
   "id": "e48e2ab8-5981-437a-b8d2-6fb2f47a12ca",
   "metadata": {},
   "source": [
    "# RESPUESTAS"
   ]
  },
  {
   "cell_type": "markdown",
   "id": "0c0766e7-1436-4083-967f-d38ff40f15e6",
   "metadata": {
    "tags": []
   },
   "source": [
    "## Parte 1"
   ]
  },
  {
   "cell_type": "markdown",
   "id": "12a29bf5-bf17-455e-a04b-21e63b718342",
   "metadata": {
    "tags": []
   },
   "source": [
    "#### 1.- Hipótesis nula:"
   ]
  },
  {
   "cell_type": "markdown",
   "id": "7b2fab04-930f-4d0c-9fd1-f52757ded00d",
   "metadata": {
    "tags": []
   },
   "source": [
    "*Hipótesis Nula (H0)*: No hay diferencia en las tasas medias de grabado para los distintos niveles de potencia del haz de plasma que realiza el grabado."
   ]
  },
  {
   "cell_type": "markdown",
   "id": "7223e056-efb7-4ad3-9136-c85ebe02fbf5",
   "metadata": {
    "tags": []
   },
   "source": [
    "#### 2.- Hipótesis alternativa:"
   ]
  },
  {
   "cell_type": "markdown",
   "id": "a56a3f29-afef-461f-9bfc-d3e5f77e53bc",
   "metadata": {},
   "source": [
    "*Hipótesis Alternativa (H1):* Hay diferencia en las tasas medias de grabado para los distintos niveles de potencia del haz de plasma que realiza el grabado."
   ]
  },
  {
   "cell_type": "markdown",
   "id": "f1cadad7-1379-4a12-b55f-7ceede6f6108",
   "metadata": {
    "tags": []
   },
   "source": [
    "#### 3.- Nivel de significancia:"
   ]
  },
  {
   "cell_type": "markdown",
   "id": "9184b6f8-43ef-4565-8b1c-0f69962f45a3",
   "metadata": {},
   "source": [
    "El nivel de significancaia que vamos a usar es el de *0.05*"
   ]
  },
  {
   "cell_type": "markdown",
   "id": "59c16455-7248-436f-9b92-cb65cc2fe10f",
   "metadata": {
    "tags": []
   },
   "source": [
    "#### 4.- ¿Cuáles son los grados de libertad del modelo, los términos de error y la DoF total?"
   ]
  },
  {
   "cell_type": "markdown",
   "id": "4c617948-0df5-4370-9653-6910a37ab299",
   "metadata": {
    "tags": []
   },
   "source": [
    "Tenemos 3 niveles de potencia, que son: (160W, 180W, 200W).\n",
    "    \n",
    "Tenemos 5 observaciones para cada nivel de potencia. Tenemos 15 obsevaciones.\n",
    "\n",
    "- 1.- Grados de libertad del modelo (Entre grupos): SS(betweens)= a - 1. Donde a es el número de grupos, en nuestro caso los niveles de potencia.\n",
    "    - SS(betweens)= a - 1 = 3 - 1 = 2\n",
    "    \n",
    "- 2.- Grados de libertad en los términos de error (Dentro de los grupos): SS(within)= N - a. Donde N es el número de observaciones y a el número de grupos.\n",
    "    - SS(within)= N - a = 15 - 3 = 12\n",
    "\n",
    "- 3.- Grados de libertad Totales: SS(total)= N - 1. Donde N es el número total de observaciones.\n",
    "    - SS(total)= N - 1 = 15 - 1 = 14"
   ]
  },
  {
   "cell_type": "markdown",
   "id": "087b4ef6-b1eb-415a-a29f-42db5408e920",
   "metadata": {},
   "source": [
    "## Parte 2"
   ]
  },
  {
   "cell_type": "markdown",
   "id": "776ec811-2811-4fb0-9b5e-71e02bb2f459",
   "metadata": {
    "tags": []
   },
   "source": [
    "#### 1.- En esta sección, utiliza Python para realizar el ANOVA."
   ]
  },
  {
   "cell_type": "code",
   "execution_count": 25,
   "id": "fdef6603-174a-476c-9a0e-5cfd6578a2d9",
   "metadata": {
    "tags": []
   },
   "outputs": [],
   "source": [
    "#Importamos las librerias\n",
    "import statsmodels.api as sm\n",
    "from statsmodels.formula.api import ols\n",
    "import pandas as pd"
   ]
  },
  {
   "cell_type": "code",
   "execution_count": 26,
   "id": "92f3e8aa-0722-4097-ad6e-94a35c18a64e",
   "metadata": {
    "tags": []
   },
   "outputs": [
    {
     "data": {
      "text/html": [
       "<div>\n",
       "<style scoped>\n",
       "    .dataframe tbody tr th:only-of-type {\n",
       "        vertical-align: middle;\n",
       "    }\n",
       "\n",
       "    .dataframe tbody tr th {\n",
       "        vertical-align: top;\n",
       "    }\n",
       "\n",
       "    .dataframe thead th {\n",
       "        text-align: right;\n",
       "    }\n",
       "</style>\n",
       "<table border=\"1\" class=\"dataframe\">\n",
       "  <thead>\n",
       "    <tr style=\"text-align: right;\">\n",
       "      <th></th>\n",
       "      <th>Power</th>\n",
       "      <th>Etching Rate</th>\n",
       "    </tr>\n",
       "  </thead>\n",
       "  <tbody>\n",
       "    <tr>\n",
       "      <th>0</th>\n",
       "      <td>160 W</td>\n",
       "      <td>5.43</td>\n",
       "    </tr>\n",
       "    <tr>\n",
       "      <th>1</th>\n",
       "      <td>180 W</td>\n",
       "      <td>6.24</td>\n",
       "    </tr>\n",
       "    <tr>\n",
       "      <th>2</th>\n",
       "      <td>200 W</td>\n",
       "      <td>8.79</td>\n",
       "    </tr>\n",
       "    <tr>\n",
       "      <th>3</th>\n",
       "      <td>160 W</td>\n",
       "      <td>5.71</td>\n",
       "    </tr>\n",
       "    <tr>\n",
       "      <th>4</th>\n",
       "      <td>180 W</td>\n",
       "      <td>6.71</td>\n",
       "    </tr>\n",
       "    <tr>\n",
       "      <th>5</th>\n",
       "      <td>200 W</td>\n",
       "      <td>9.20</td>\n",
       "    </tr>\n",
       "    <tr>\n",
       "      <th>6</th>\n",
       "      <td>160 W</td>\n",
       "      <td>6.22</td>\n",
       "    </tr>\n",
       "    <tr>\n",
       "      <th>7</th>\n",
       "      <td>180 W</td>\n",
       "      <td>5.98</td>\n",
       "    </tr>\n",
       "    <tr>\n",
       "      <th>8</th>\n",
       "      <td>200 W</td>\n",
       "      <td>7.90</td>\n",
       "    </tr>\n",
       "    <tr>\n",
       "      <th>9</th>\n",
       "      <td>160 W</td>\n",
       "      <td>6.01</td>\n",
       "    </tr>\n",
       "    <tr>\n",
       "      <th>10</th>\n",
       "      <td>180 W</td>\n",
       "      <td>5.66</td>\n",
       "    </tr>\n",
       "    <tr>\n",
       "      <th>11</th>\n",
       "      <td>200 W</td>\n",
       "      <td>8.15</td>\n",
       "    </tr>\n",
       "    <tr>\n",
       "      <th>12</th>\n",
       "      <td>160 W</td>\n",
       "      <td>5.59</td>\n",
       "    </tr>\n",
       "    <tr>\n",
       "      <th>13</th>\n",
       "      <td>180 W</td>\n",
       "      <td>6.60</td>\n",
       "    </tr>\n",
       "    <tr>\n",
       "      <th>14</th>\n",
       "      <td>200 W</td>\n",
       "      <td>7.55</td>\n",
       "    </tr>\n",
       "  </tbody>\n",
       "</table>\n",
       "</div>"
      ],
      "text/plain": [
       "   Power   Etching Rate\n",
       "0   160 W          5.43\n",
       "1   180 W          6.24\n",
       "2   200 W          8.79\n",
       "3   160 W          5.71\n",
       "4   180 W          6.71\n",
       "5   200 W          9.20\n",
       "6   160 W          6.22\n",
       "7   180 W          5.98\n",
       "8   200 W          7.90\n",
       "9   160 W          6.01\n",
       "10  180 W          5.66\n",
       "11  200 W          8.15\n",
       "12  160 W          5.59\n",
       "13  180 W          6.60\n",
       "14  200 W          7.55"
      ]
     },
     "execution_count": 26,
     "metadata": {},
     "output_type": "execute_result"
    }
   ],
   "source": [
    "data = pd.read_excel('data/anova_lab_data.xlsx', sheet_name='data_collected')\n",
    "data"
   ]
  },
  {
   "cell_type": "code",
   "execution_count": 27,
   "id": "6c430b36-db02-428d-9c41-ba548bf1fe6e",
   "metadata": {
    "tags": []
   },
   "outputs": [],
   "source": [
    "#Voy a realizar las buenas practicas y poner las columnas en minúscula y substituir los espacios por \"_\".\n",
    "stand_col = []\n",
    "for i in range(len(data.columns)):\n",
    "    stand_col.append(data.columns[i].lower().replace(' ','_'))\n",
    "data.columns = stand_col"
   ]
  },
  {
   "cell_type": "code",
   "execution_count": 28,
   "id": "f934cb87-fa15-4e7c-aba3-b00534e048fb",
   "metadata": {
    "tags": []
   },
   "outputs": [
    {
     "data": {
      "text/html": [
       "<div>\n",
       "<style scoped>\n",
       "    .dataframe tbody tr th:only-of-type {\n",
       "        vertical-align: middle;\n",
       "    }\n",
       "\n",
       "    .dataframe tbody tr th {\n",
       "        vertical-align: top;\n",
       "    }\n",
       "\n",
       "    .dataframe thead th {\n",
       "        text-align: right;\n",
       "    }\n",
       "</style>\n",
       "<table border=\"1\" class=\"dataframe\">\n",
       "  <thead>\n",
       "    <tr style=\"text-align: right;\">\n",
       "      <th></th>\n",
       "      <th>power_</th>\n",
       "      <th>etching_rate</th>\n",
       "    </tr>\n",
       "  </thead>\n",
       "  <tbody>\n",
       "    <tr>\n",
       "      <th>0</th>\n",
       "      <td>160 W</td>\n",
       "      <td>5.43</td>\n",
       "    </tr>\n",
       "    <tr>\n",
       "      <th>1</th>\n",
       "      <td>180 W</td>\n",
       "      <td>6.24</td>\n",
       "    </tr>\n",
       "    <tr>\n",
       "      <th>2</th>\n",
       "      <td>200 W</td>\n",
       "      <td>8.79</td>\n",
       "    </tr>\n",
       "    <tr>\n",
       "      <th>3</th>\n",
       "      <td>160 W</td>\n",
       "      <td>5.71</td>\n",
       "    </tr>\n",
       "    <tr>\n",
       "      <th>4</th>\n",
       "      <td>180 W</td>\n",
       "      <td>6.71</td>\n",
       "    </tr>\n",
       "    <tr>\n",
       "      <th>5</th>\n",
       "      <td>200 W</td>\n",
       "      <td>9.20</td>\n",
       "    </tr>\n",
       "    <tr>\n",
       "      <th>6</th>\n",
       "      <td>160 W</td>\n",
       "      <td>6.22</td>\n",
       "    </tr>\n",
       "    <tr>\n",
       "      <th>7</th>\n",
       "      <td>180 W</td>\n",
       "      <td>5.98</td>\n",
       "    </tr>\n",
       "    <tr>\n",
       "      <th>8</th>\n",
       "      <td>200 W</td>\n",
       "      <td>7.90</td>\n",
       "    </tr>\n",
       "    <tr>\n",
       "      <th>9</th>\n",
       "      <td>160 W</td>\n",
       "      <td>6.01</td>\n",
       "    </tr>\n",
       "    <tr>\n",
       "      <th>10</th>\n",
       "      <td>180 W</td>\n",
       "      <td>5.66</td>\n",
       "    </tr>\n",
       "    <tr>\n",
       "      <th>11</th>\n",
       "      <td>200 W</td>\n",
       "      <td>8.15</td>\n",
       "    </tr>\n",
       "    <tr>\n",
       "      <th>12</th>\n",
       "      <td>160 W</td>\n",
       "      <td>5.59</td>\n",
       "    </tr>\n",
       "    <tr>\n",
       "      <th>13</th>\n",
       "      <td>180 W</td>\n",
       "      <td>6.60</td>\n",
       "    </tr>\n",
       "    <tr>\n",
       "      <th>14</th>\n",
       "      <td>200 W</td>\n",
       "      <td>7.55</td>\n",
       "    </tr>\n",
       "  </tbody>\n",
       "</table>\n",
       "</div>"
      ],
      "text/plain": [
       "   power_  etching_rate\n",
       "0   160 W          5.43\n",
       "1   180 W          6.24\n",
       "2   200 W          8.79\n",
       "3   160 W          5.71\n",
       "4   180 W          6.71\n",
       "5   200 W          9.20\n",
       "6   160 W          6.22\n",
       "7   180 W          5.98\n",
       "8   200 W          7.90\n",
       "9   160 W          6.01\n",
       "10  180 W          5.66\n",
       "11  200 W          8.15\n",
       "12  160 W          5.59\n",
       "13  180 W          6.60\n",
       "14  200 W          7.55"
      ]
     },
     "execution_count": 28,
     "metadata": {},
     "output_type": "execute_result"
    }
   ],
   "source": [
    "data"
   ]
  },
  {
   "cell_type": "code",
   "execution_count": 31,
   "id": "178890d3-c9a6-4a99-8a50-b025a61e3f7f",
   "metadata": {
    "tags": []
   },
   "outputs": [
    {
     "name": "stdout",
     "output_type": "stream",
     "text": [
      "             df     sum_sq   mean_sq          F    PR(>F)\n",
      "C(power_)   2.0  18.176653  9.088327  36.878955  0.000008\n",
      "Residual   12.0   2.957240  0.246437        NaN       NaN\n"
     ]
    }
   ],
   "source": [
    "model = ols('etching_rate ~ C(power_)',data=data).fit()\n",
    "table = sm.stats.anova_lm(model)\n",
    "print(table)"
   ]
  },
  {
   "cell_type": "markdown",
   "id": "ca52539f-f990-4568-9eb2-38b17bedbbde",
   "metadata": {},
   "source": [
    "#### 2.- ¿Qué conclusiones puedes extraer del experimento y por qué?"
   ]
  },
  {
   "cell_type": "markdown",
   "id": "e13de3ac-702e-4c66-aa83-4dbd38904b43",
   "metadata": {},
   "source": [
    "Las conclusiones que obtengo son las siguientes:\n",
    "\n",
    "- El valor F de 36.889, lo que nos indica una diferencia significativa entre las medias de los grupos en relación con la variabilidad dentro de los grupos.\n",
    "\n",
    "- El P-Valor es de 8×10−6, que es mucho menor que el nivel de significancia común usado de 0.05, por lo tanto rechazamos la hipótesis nula. Esto nos indica que hay una diferencia estadísticamente significativa en las tasas medias de grabado para los diferentes niveles de potencia del haz de plasma, por lo tanto ello conlleva, que cambiar el nivel de potencia del haz de luz, tiene un efecto significativo en la velocidad de grabado."
   ]
  }
 ],
 "metadata": {
  "kernelspec": {
   "display_name": "Python 3 (ipykernel)",
   "language": "python",
   "name": "python3"
  },
  "language_info": {
   "codemirror_mode": {
    "name": "ipython",
    "version": 3
   },
   "file_extension": ".py",
   "mimetype": "text/x-python",
   "name": "python",
   "nbconvert_exporter": "python",
   "pygments_lexer": "ipython3",
   "version": "3.11.5"
  }
 },
 "nbformat": 4,
 "nbformat_minor": 5
}
